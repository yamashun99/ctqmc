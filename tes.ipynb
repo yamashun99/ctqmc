{
 "cells": [
  {
   "cell_type": "code",
   "execution_count": 3,
   "metadata": {},
   "outputs": [
    {
     "name": "stdout",
     "output_type": "stream",
     "text": [
      "asked to insert 0359 at index3\n"
     ]
    }
   ],
   "source": [
    "from bisect import bisect_left, insort_left\n",
    "\n",
    "\n",
    "class KeyWrapper:\n",
    "    def __init__(self, iterable, key):\n",
    "        self.it = iterable\n",
    "        self.key = key\n",
    "\n",
    "    def __getitem__(self, i):\n",
    "        return self.key(self.it[i])\n",
    "\n",
    "    def __len__(self):\n",
    "        return len(self.it)\n",
    "\n",
    "    def insert(self, index, item):\n",
    "        print('asked to insert %s at index%d' % (item, index))\n",
    "        self.it.insert(index, {\"time\": item})\n",
    "\n",
    "\n",
    "timetable = [{\"time\": \"0150\"}, {\"time\": \"0250\"}, {\"time\": \"0350\"}, {\n",
    "    \"time\": \"0450\"}, {\"time\": \"0550\"}, {\"time\": \"0650\"}, {\"time\": \"0750\"}]\n",
    "\n",
    "bslindex = bisect_left(KeyWrapper(timetable, key=lambda t: t[\"time\"]), \"0359\")\n",
    "\n",
    "islindex = insort_left(KeyWrapper(timetable, key=lambda t: t[\"time\"]), \"0359\")"
   ]
  },
  {
   "cell_type": "code",
   "execution_count": 5,
   "metadata": {},
   "outputs": [
    {
     "data": {
      "text/plain": [
       "<__main__.KeyWrapper at 0x7f2f7c6008e0>"
      ]
     },
     "execution_count": 5,
     "metadata": {},
     "output_type": "execute_result"
    }
   ],
   "source": [
    "KeyWrapper(timetable, key=lambda t: t[\"time\"])"
   ]
  },
  {
   "cell_type": "code",
   "execution_count": null,
   "metadata": {},
   "outputs": [],
   "source": []
  }
 ],
 "metadata": {
  "kernelspec": {
   "display_name": "base",
   "language": "python",
   "name": "python3"
  },
  "language_info": {
   "codemirror_mode": {
    "name": "ipython",
    "version": 3
   },
   "file_extension": ".py",
   "mimetype": "text/x-python",
   "name": "python",
   "nbconvert_exporter": "python",
   "pygments_lexer": "ipython3",
   "version": "3.9.12"
  },
  "orig_nbformat": 4
 },
 "nbformat": 4,
 "nbformat_minor": 2
}
