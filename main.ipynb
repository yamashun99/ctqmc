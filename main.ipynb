{
 "cells": [
  {
   "cell_type": "code",
   "execution_count": 1,
   "metadata": {},
   "outputs": [
    {
     "ename": "ImportError",
     "evalue": "cannot import name '_c_internal_utils' from partially initialized module 'matplotlib' (most likely due to a circular import) (/home/yamamoto/.local/lib/python3.9/site-packages/matplotlib/__init__.py)",
     "output_type": "error",
     "traceback": [
      "\u001b[0;31m---------------------------------------------------------------------------\u001b[0m",
      "\u001b[0;31mImportError\u001b[0m                               Traceback (most recent call last)",
      "Cell \u001b[0;32mIn[1], line 2\u001b[0m\n\u001b[1;32m      1\u001b[0m \u001b[39mimport\u001b[39;00m \u001b[39mnumpy\u001b[39;00m \u001b[39mas\u001b[39;00m \u001b[39mnp\u001b[39;00m\n\u001b[0;32m----> 2\u001b[0m \u001b[39mimport\u001b[39;00m \u001b[39msolver\u001b[39;00m\n\u001b[1;32m      3\u001b[0m \u001b[39mimport\u001b[39;00m \u001b[39mimportlib\u001b[39;00m\n\u001b[1;32m      4\u001b[0m \u001b[39mimport\u001b[39;00m \u001b[39mmatplotlib\u001b[39;00m\u001b[39m.\u001b[39;00m\u001b[39mpyplot\u001b[39;00m \u001b[39mas\u001b[39;00m \u001b[39mplt\u001b[39;00m\n",
      "File \u001b[0;32m~/Dropbox/study/montecarlo/ctqmc/solver.py:3\u001b[0m\n\u001b[1;32m      1\u001b[0m \u001b[39mimport\u001b[39;00m \u001b[39mitertools\u001b[39;00m\n\u001b[1;32m      2\u001b[0m \u001b[39mimport\u001b[39;00m \u001b[39mnumpy\u001b[39;00m \u001b[39mas\u001b[39;00m \u001b[39mnp\u001b[39;00m\n\u001b[0;32m----> 3\u001b[0m \u001b[39mimport\u001b[39;00m \u001b[39mmatplotlib\u001b[39;00m\u001b[39m.\u001b[39;00m\u001b[39mpyplot\u001b[39;00m \u001b[39mas\u001b[39;00m \u001b[39mplt\u001b[39;00m\n\u001b[1;32m      4\u001b[0m \u001b[39mimport\u001b[39;00m \u001b[39mbisect\u001b[39;00m\n\u001b[1;32m      5\u001b[0m \u001b[39mimport\u001b[39;00m \u001b[39mcopy\u001b[39;00m\n",
      "File \u001b[0;32m~/.local/lib/python3.9/site-packages/matplotlib/__init__.py:113\u001b[0m\n\u001b[1;32m    109\u001b[0m \u001b[39mfrom\u001b[39;00m \u001b[39mpackaging\u001b[39;00m\u001b[39m.\u001b[39;00m\u001b[39mversion\u001b[39;00m \u001b[39mimport\u001b[39;00m parse \u001b[39mas\u001b[39;00m parse_version\n\u001b[1;32m    111\u001b[0m \u001b[39m# cbook must import matplotlib only within function\u001b[39;00m\n\u001b[1;32m    112\u001b[0m \u001b[39m# definitions, so it is safe to import from it here.\u001b[39;00m\n\u001b[0;32m--> 113\u001b[0m \u001b[39mfrom\u001b[39;00m \u001b[39m.\u001b[39;00m \u001b[39mimport\u001b[39;00m _api, _version, cbook, _docstring, rcsetup\n\u001b[1;32m    114\u001b[0m \u001b[39mfrom\u001b[39;00m \u001b[39mmatplotlib\u001b[39;00m\u001b[39m.\u001b[39;00m\u001b[39mcbook\u001b[39;00m \u001b[39mimport\u001b[39;00m sanitize_sequence\n\u001b[1;32m    115\u001b[0m \u001b[39mfrom\u001b[39;00m \u001b[39mmatplotlib\u001b[39;00m\u001b[39m.\u001b[39;00m\u001b[39m_api\u001b[39;00m \u001b[39mimport\u001b[39;00m MatplotlibDeprecationWarning\n",
      "File \u001b[0;32m~/.local/lib/python3.9/site-packages/matplotlib/cbook/__init__.py:30\u001b[0m\n\u001b[1;32m     27\u001b[0m \u001b[39mimport\u001b[39;00m \u001b[39mnumpy\u001b[39;00m \u001b[39mas\u001b[39;00m \u001b[39mnp\u001b[39;00m\n\u001b[1;32m     29\u001b[0m \u001b[39mimport\u001b[39;00m \u001b[39mmatplotlib\u001b[39;00m\n\u001b[0;32m---> 30\u001b[0m \u001b[39mfrom\u001b[39;00m \u001b[39mmatplotlib\u001b[39;00m \u001b[39mimport\u001b[39;00m _api, _c_internal_utils\n\u001b[1;32m     33\u001b[0m \u001b[39m@_api\u001b[39m\u001b[39m.\u001b[39mcaching_module_getattr\n\u001b[1;32m     34\u001b[0m \u001b[39mclass\u001b[39;00m \u001b[39m__getattr__\u001b[39;00m:\n\u001b[1;32m     35\u001b[0m     \u001b[39m# module-level deprecations\u001b[39;00m\n\u001b[1;32m     36\u001b[0m     MatplotlibDeprecationWarning \u001b[39m=\u001b[39m _api\u001b[39m.\u001b[39mdeprecated(\n\u001b[1;32m     37\u001b[0m         \u001b[39m\"\u001b[39m\u001b[39m3.6\u001b[39m\u001b[39m\"\u001b[39m, obj_type\u001b[39m=\u001b[39m\u001b[39m\"\u001b[39m\u001b[39m\"\u001b[39m,\n\u001b[1;32m     38\u001b[0m         alternative\u001b[39m=\u001b[39m\u001b[39m\"\u001b[39m\u001b[39mmatplotlib.MatplotlibDeprecationWarning\u001b[39m\u001b[39m\"\u001b[39m)(\n\u001b[1;32m     39\u001b[0m         \u001b[39mproperty\u001b[39m(\u001b[39mlambda\u001b[39;00m \u001b[39mself\u001b[39m: _api\u001b[39m.\u001b[39mdeprecation\u001b[39m.\u001b[39mMatplotlibDeprecationWarning))\n",
      "\u001b[0;31mImportError\u001b[0m: cannot import name '_c_internal_utils' from partially initialized module 'matplotlib' (most likely due to a circular import) (/home/yamamoto/.local/lib/python3.9/site-packages/matplotlib/__init__.py)"
     ]
    }
   ],
   "source": [
    "import numpy as np\n",
    "import solver\n",
    "import importlib\n",
    "import matplotlib.pyplot as plt\n",
    "import itertools\n",
    "import bisect\n",
    "import copy\n",
    "import random\n",
    "import collections\n",
    "import conf\n",
    "import solver\n",
    "importlib.reload(conf)\n",
    "importlib.reload(solver)"
   ]
  },
  {
   "cell_type": "code",
   "execution_count": 30,
   "metadata": {},
   "outputs": [
    {
     "data": {
      "text/plain": [
       "[cut(t=5.374506992319476, s=1, null=False),\n",
       " cut(t=5.447187035891893, s=1, null=False),\n",
       " cut(t=8.894238664497449, s=-1, null=False)]"
      ]
     },
     "execution_count": 30,
     "metadata": {},
     "output_type": "execute_result"
    }
   ],
   "source": [
    "C1 = conf.Cuttau(10.0, 1.0)\n",
    "C1.cuttau"
   ]
  },
  {
   "cell_type": "code",
   "execution_count": 32,
   "metadata": {},
   "outputs": [
    {
     "data": {
      "text/plain": [
       "cut(t=5.374506992319476, s=1, null=False)"
      ]
     },
     "execution_count": 32,
     "metadata": {},
     "output_type": "execute_result"
    }
   ],
   "source": [
    "C1[0]"
   ]
  },
  {
   "cell_type": "code",
   "execution_count": 126,
   "metadata": {},
   "outputs": [
    {
     "ename": "TypeError",
     "evalue": "'key' is an invalid keyword argument for bisect_right()",
     "output_type": "error",
     "traceback": [
      "\u001b[0;31m---------------------------------------------------------------------------\u001b[0m",
      "\u001b[0;31mTypeError\u001b[0m                                 Traceback (most recent call last)",
      "\u001b[1;32m/home/yamamoto/Dropbox/study/montecarlo/ctqmc/main.ipynb セル 4\u001b[0m in \u001b[0;36m2\n\u001b[1;32m      <a href='vscode-notebook-cell:/home/yamamoto/Dropbox/study/montecarlo/ctqmc/main.ipynb#X24sZmlsZQ%3D%3D?line=0'>1</a>\u001b[0m \u001b[39mfrom\u001b[39;00m \u001b[39moperator\u001b[39;00m \u001b[39mimport\u001b[39;00m attrgetter\n\u001b[0;32m----> <a href='vscode-notebook-cell:/home/yamamoto/Dropbox/study/montecarlo/ctqmc/main.ipynb#X24sZmlsZQ%3D%3D?line=1'>2</a>\u001b[0m bisect\u001b[39m.\u001b[39;49mbisect(C1\u001b[39m.\u001b[39;49mcut[\u001b[39m0\u001b[39;49m], \u001b[39m2.0\u001b[39;49m, key\u001b[39m=\u001b[39;49mattrgetter(\u001b[39m'\u001b[39;49m\u001b[39mt\u001b[39;49m\u001b[39m'\u001b[39;49m))\n",
      "\u001b[0;31mTypeError\u001b[0m: 'key' is an invalid keyword argument for bisect_right()"
     ]
    }
   ],
   "source": [
    "from operator import attrgetter\n",
    "bisect.bisect(C1.cut[0], 2.0, key=attrgetter('t'))"
   ]
  },
  {
   "cell_type": "code",
   "execution_count": 111,
   "metadata": {},
   "outputs": [],
   "source": [
    "C1.cut[0].sort(key=lambda x: x.t)"
   ]
  },
  {
   "cell_type": "code",
   "execution_count": 112,
   "metadata": {},
   "outputs": [
    {
     "data": {
      "text/plain": [
       "[cuttau(ix=0, t=1.4503091240701593, s=1, null=False),\n",
       " cuttau(ix=0, t=2.2245267361168897, s=1, null=False),\n",
       " cuttau(ix=0, t=3.307719851346663, s=1, null=False),\n",
       " cuttau(ix=0, t=3.3833422887583176, s=1, null=False),\n",
       " cuttau(ix=0, t=7.76866147441277, s=1, null=False),\n",
       " cuttau(ix=0, t=9.20982204299143, s=-1, null=False),\n",
       " cuttau(ix=0, t=9.240565498804846, s=1, null=False),\n",
       " cuttau(ix=0, t=9.375692775150693, s=1, null=False),\n",
       " cuttau(ix=0, t=9.469980327328964, s=-1, null=False)]"
      ]
     },
     "execution_count": 112,
     "metadata": {},
     "output_type": "execute_result"
    }
   ],
   "source": []
  },
  {
   "cell_type": "code",
   "execution_count": 114,
   "metadata": {},
   "outputs": [
    {
     "ename": "TypeError",
     "evalue": "'key' is an invalid keyword argument for insort_right()",
     "output_type": "error",
     "traceback": [
      "\u001b[0;31m---------------------------------------------------------------------------\u001b[0m",
      "\u001b[0;31mTypeError\u001b[0m                                 Traceback (most recent call last)",
      "\u001b[1;32m/home/yamamoto/Dropbox/study/montecarlo/ctqmc/main.ipynb セル 7\u001b[0m in \u001b[0;36m2\n\u001b[1;32m      <a href='vscode-notebook-cell:/home/yamamoto/Dropbox/study/montecarlo/ctqmc/main.ipynb#X22sZmlsZQ%3D%3D?line=0'>1</a>\u001b[0m C2 \u001b[39m=\u001b[39m C1\u001b[39m.\u001b[39mcuttau(\u001b[39m2\u001b[39m, \u001b[39m0.1\u001b[39m, \u001b[39m1\u001b[39m, \u001b[39mFalse\u001b[39;00m)\n\u001b[0;32m----> <a href='vscode-notebook-cell:/home/yamamoto/Dropbox/study/montecarlo/ctqmc/main.ipynb#X22sZmlsZQ%3D%3D?line=1'>2</a>\u001b[0m bisect\u001b[39m.\u001b[39;49minsort(C1\u001b[39m.\u001b[39;49mcut[\u001b[39m0\u001b[39;49m], C2, key\u001b[39m=\u001b[39;49m\u001b[39mlambda\u001b[39;49;00m x: x\u001b[39m.\u001b[39;49mt)\n",
      "\u001b[0;31mTypeError\u001b[0m: 'key' is an invalid keyword argument for insort_right()"
     ]
    }
   ],
   "source": [
    "C2 = C1.cuttau(2, 0.1, 1, False)\n",
    "bisect.insort(C1.cut[0], C2, key=lambda x: x.t)"
   ]
  },
  {
   "cell_type": "code",
   "execution_count": 416,
   "metadata": {},
   "outputs": [],
   "source": [
    "beta = 100\n",
    "p = {'beta': beta, 'J': 1.0, 'Hx': 2.0,\n",
    "     'L': 10, 'ntot': 10, 'measure_interval': 1}\n",
    "S = solver.Solver(**p)"
   ]
  },
  {
   "cell_type": "code",
   "execution_count": 417,
   "metadata": {},
   "outputs": [],
   "source": [
    "S.gen_conf()"
   ]
  },
  {
   "cell_type": "code",
   "execution_count": 418,
   "metadata": {},
   "outputs": [
    {
     "data": {
      "image/png": "[encoded data removed]",
      "text/plain": [
       "<Figure size 640x480 with 1 Axes>"
      ]
     },
     "metadata": {},
     "output_type": "display_data"
    }
   ],
   "source": [
    "S.remove_cut()\n",
    "S.gen_cut()\n",
    "S.gen_Ccut()\n",
    "S.gen_bond()\n",
    "S.remove_bond()\n",
    "S.gen_flip()\n",
    "S.gen_cluster()\n",
    "S.connect_bond()\n",
    "S.cluster_flip()\n",
    "Ccutp = S.get_Ccutp()\n",
    "S.plot()"
   ]
  },
  {
   "cell_type": "code",
   "execution_count": null,
   "metadata": {},
   "outputs": [],
   "source": []
  }
 ],
 "metadata": {
  "kernelspec": {
   "display_name": "base",
   "language": "python",
   "name": "python3"
  },
  "language_info": {
   "codemirror_mode": {
    "name": "ipython",
    "version": 3
   },
   "file_extension": ".py",
   "mimetype": "text/x-python",
   "name": "python",
   "nbconvert_exporter": "python",
   "pygments_lexer": "ipython3",
   "version": "3.11.5"
  },
  "orig_nbformat": 4
 },
 "nbformat": 4,
 "nbformat_minor": 2
}
