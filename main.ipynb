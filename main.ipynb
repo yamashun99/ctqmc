{
 "cells": [
  {
   "cell_type": "code",
   "execution_count": 39,
   "metadata": {},
   "outputs": [
    {
     "data": {
      "text/plain": [
       "<module 'solver' from '/home/yamamoto/Dropbox/study/montecarlo/ctqmc/solver.py'>"
      ]
     },
     "execution_count": 39,
     "metadata": {},
     "output_type": "execute_result"
    }
   ],
   "source": [
    "import numpy as np\n",
    "import solver\n",
    "import importlib\n",
    "import matplotlib.pyplot as plt\n",
    "import itertools\n",
    "importlib.reload(solver)"
   ]
  },
  {
   "cell_type": "code",
   "execution_count": 40,
   "metadata": {},
   "outputs": [],
   "source": [
    "beta = 10\n",
    "p = {'beta': beta, 'J': 1.0, 'Hx': 10.0,\n",
    "     'L': 100, 'ntot': 10, 'measure_interval': 1}\n",
    "S = solver.Solver(**p)\n",
    "# S = solver.Solver(p['beta'], p['J'], p['Hx'], p['L'],\n",
    "#                  p['M'], p['ntot'], p['measure_interval'])"
   ]
  },
  {
   "cell_type": "code",
   "execution_count": 41,
   "metadata": {},
   "outputs": [],
   "source": [
    "C, n = S.gen_conf()\n",
    "Cp = np.concatenate([[[0, C[-1, 1]]], C, [[beta, C[-1, 1]]]])"
   ]
  },
  {
   "cell_type": "code",
   "execution_count": 42,
   "metadata": {},
   "outputs": [
    {
     "data": {
      "text/plain": [
       "array([[ 0.        ,  1.        ],\n",
       "       [ 0.06721622,  1.        ],\n",
       "       [ 3.52840531,  1.        ],\n",
       "       [ 5.44035602, -1.        ],\n",
       "       [ 5.50213697,  1.        ],\n",
       "       [ 5.85156714, -1.        ],\n",
       "       [ 6.06814632,  1.        ],\n",
       "       [ 7.53084494, -1.        ],\n",
       "       [ 7.81236837, -1.        ],\n",
       "       [ 8.08951694, -1.        ],\n",
       "       [ 9.10113694,  1.        ],\n",
       "       [10.        ,  1.        ]])"
      ]
     },
     "execution_count": 42,
     "metadata": {},
     "output_type": "execute_result"
    }
   ],
   "source": [
    "Cp"
   ]
  },
  {
   "cell_type": "code",
   "execution_count": 43,
   "metadata": {},
   "outputs": [
    {
     "data": {
      "image/png": "[encoded data removed]",
      "text/plain": [
       "<Figure size 640x480 with 1 Axes>"
      ]
     },
     "metadata": {},
     "output_type": "display_data"
    }
   ],
   "source": [
    "colors = {-1: 'w', 1: 'k'}\n",
    "fig, ax = plt.subplots()\n",
    "for i in range(n+1):\n",
    "    ax.fill([0, 1, 1, 0], [Cp[i, 0], Cp[i, 0], Cp[i+1, 0],\n",
    "            Cp[i+1, 0]], color=colors[int(Cp[i, 1])])"
   ]
  },
  {
   "cell_type": "code",
   "execution_count": 44,
   "metadata": {},
   "outputs": [
    {
     "data": {
      "text/plain": [
       "array([[ 0.06721622,  1.        ],\n",
       "       [ 3.52840531,  1.        ],\n",
       "       [ 5.44035602, -1.        ],\n",
       "       [ 5.50213697,  1.        ],\n",
       "       [ 5.85156714, -1.        ],\n",
       "       [ 6.06814632,  1.        ],\n",
       "       [ 7.53084494, -1.        ],\n",
       "       [ 7.81236837, -1.        ],\n",
       "       [ 8.08951694, -1.        ],\n",
       "       [ 9.10113694,  1.        ]])"
      ]
     },
     "execution_count": 44,
     "metadata": {},
     "output_type": "execute_result"
    }
   ],
   "source": [
    "C"
   ]
  },
  {
   "cell_type": "code",
   "execution_count": 45,
   "metadata": {},
   "outputs": [],
   "source": [
    "C = np.array([[1, -1], [2, -1], [3, -1]])"
   ]
  },
  {
   "cell_type": "code",
   "execution_count": 46,
   "metadata": {},
   "outputs": [],
   "source": [
    "C_removed = S.remove_cut(C)"
   ]
  },
  {
   "cell_type": "code",
   "execution_count": 47,
   "metadata": {},
   "outputs": [
    {
     "data": {
      "text/plain": [
       "array([], shape=(0, 2), dtype=float64)"
      ]
     },
     "execution_count": 47,
     "metadata": {},
     "output_type": "execute_result"
    }
   ],
   "source": [
    "C_removed"
   ]
  },
  {
   "cell_type": "code",
   "execution_count": 48,
   "metadata": {},
   "outputs": [
    {
     "ename": "IndexError",
     "evalue": "index -1 is out of bounds for axis 0 with size 0",
     "output_type": "error",
     "traceback": [
      "\u001b[0;31m---------------------------------------------------------------------------\u001b[0m",
      "\u001b[0;31mIndexError\u001b[0m                                Traceback (most recent call last)",
      "\u001b[1;32m/home/yamamoto/Dropbox/study/montecarlo/ctqmc/main.ipynb セル 10\u001b[0m in \u001b[0;36m2\n\u001b[1;32m      <a href='vscode-notebook-cell:/home/yamamoto/Dropbox/study/montecarlo/ctqmc/main.ipynb#W6sZmlsZQ%3D%3D?line=0'>1</a>\u001b[0m Cp_removed \u001b[39m=\u001b[39m np\u001b[39m.\u001b[39mconcatenate(\n\u001b[0;32m----> <a href='vscode-notebook-cell:/home/yamamoto/Dropbox/study/montecarlo/ctqmc/main.ipynb#W6sZmlsZQ%3D%3D?line=1'>2</a>\u001b[0m     [[[\u001b[39m0\u001b[39m, C_removed[\u001b[39m-\u001b[39;49m\u001b[39m1\u001b[39;49m, \u001b[39m1\u001b[39;49m]]], C_removed, [[beta, C_removed[\u001b[39m-\u001b[39m\u001b[39m1\u001b[39m, \u001b[39m1\u001b[39m]]]])\n",
      "\u001b[0;31mIndexError\u001b[0m: index -1 is out of bounds for axis 0 with size 0"
     ]
    }
   ],
   "source": [
    "Cp_removed = np.concatenate(\n",
    "    [[[0, C_removed[-1, 1]]], C_removed, [[beta, C_removed[-1, 1]]]])"
   ]
  },
  {
   "cell_type": "code",
   "execution_count": null,
   "metadata": {},
   "outputs": [
    {
     "data": {
      "text/plain": [
       "array([[ 1.33984022,  1.        ],\n",
       "       [ 1.8081023 , -1.        ],\n",
       "       [ 3.49623574,  1.        ],\n",
       "       [ 4.90698253, -1.        ],\n",
       "       [ 8.04748696,  1.        ],\n",
       "       [ 8.33858871, -1.        ]])"
      ]
     },
     "execution_count": 19,
     "metadata": {},
     "output_type": "execute_result"
    }
   ],
   "source": [
    "C_removed"
   ]
  },
  {
   "cell_type": "code",
   "execution_count": null,
   "metadata": {},
   "outputs": [],
   "source": []
  }
 ],
 "metadata": {
  "kernelspec": {
   "display_name": "base",
   "language": "python",
   "name": "python3"
  },
  "language_info": {
   "codemirror_mode": {
    "name": "ipython",
    "version": 3
   },
   "file_extension": ".py",
   "mimetype": "text/x-python",
   "name": "python",
   "nbconvert_exporter": "python",
   "pygments_lexer": "ipython3",
   "version": "3.9.12"
  },
  "orig_nbformat": 4
 },
 "nbformat": 4,
 "nbformat_minor": 2
}
