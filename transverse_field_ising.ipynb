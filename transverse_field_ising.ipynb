{
 "cells": [
  {
   "cell_type": "code",
   "execution_count": 1,
   "metadata": {},
   "outputs": [
    {
     "data": {
      "text/plain": [
       "<module 'mpl_interface' from '/root/study/ctqmc/mpl_interface.py'>"
      ]
     },
     "execution_count": 1,
     "metadata": {},
     "output_type": "execute_result"
    }
   ],
   "source": [
    "import numpy as np\n",
    "import ctqmc\n",
    "import importlib\n",
    "import conf\n",
    "import ctqmc\n",
    "import mpl_interface\n",
    "import collections\n",
    "import line_profiler\n",
    "from mpl_interface import plt, spinplot, bondplot, cutplot\n",
    "importlib.reload(conf)\n",
    "importlib.reload(ctqmc)\n",
    "importlib.reload(mpl_interface)"
   ]
  },
  {
   "cell_type": "code",
   "execution_count": 2,
   "metadata": {},
   "outputs": [],
   "source": [
    "pr = line_profiler.LineProfiler()"
   ]
  },
  {
   "cell_type": "code",
   "execution_count": 16,
   "metadata": {},
   "outputs": [],
   "source": [
    "p = {'beta': 100, 'J': 1.0, 'Hx': 1.0,'L': 100}\n",
    "u = ctqmc.Updater(**p)\n",
    "pr.add_function(u.update)\n",
    "pr.add_function(u.cuttaux.add_cut)"
   ]
  },
  {
   "cell_type": "code",
   "execution_count": 17,
   "metadata": {},
   "outputs": [
    {
     "name": "stdout",
     "output_type": "stream",
     "text": [
      "CPU times: user 175 µs, sys: 80 µs, total: 255 µs\n",
      "Wall time: 257 µs\n",
      "CPU times: user 10 ms, sys: 315 µs, total: 10.3 ms\n",
      "Wall time: 8.46 ms\n",
      "CPU times: user 5.33 ms, sys: 68 µs, total: 5.4 ms\n",
      "Wall time: 5.25 ms\n",
      "CPU times: user 9.52 ms, sys: 0 ns, total: 9.52 ms\n",
      "Wall time: 9.51 ms\n"
     ]
    }
   ],
   "source": [
    "%time u.remove_cut()\n",
    "%time u.add_cut()\n",
    "%time u.update_bond()\n",
    "%time u.update()"
   ]
  },
  {
   "cell_type": "code",
   "execution_count": 18,
   "metadata": {},
   "outputs": [
    {
     "data": {
      "text/plain": [
       "<line_profiler.line_profiler.LineProfiler at 0x7ff6a85b33f0>"
      ]
     },
     "execution_count": 18,
     "metadata": {},
     "output_type": "execute_result"
    }
   ],
   "source": [
    "pr.run('u.update()')\n",
    "pr.run('u.cuttaux.add_cut()')"
   ]
  },
  {
   "cell_type": "code",
   "execution_count": 19,
   "metadata": {},
   "outputs": [
    {
     "name": "stdout",
     "output_type": "stream",
     "text": [
      "Timer unit: 1e-09 s\n",
      "\n",
      "Total time: 0.0162451 s\n",
      "File: /root/study/ctqmc/conf.py\n",
      "Function: add_cut at line 117\n",
      "\n",
      "Line #      Hits         Time  Per Hit   % Time  Line Contents\n",
      "==============================================================\n",
      "   117                                               def add_cut(self, ):\n",
      "   118       101      12075.0    119.6      0.1          for ct in self.cuttaux:\n",
      "   119       100   16233002.0 162330.0     99.9              ct.add_cut()\n",
      "\n",
      "Total time: 0.016845 s\n",
      "File: /root/study/ctqmc/ctqmc.py\n",
      "Function: add_cut at line 76\n",
      "\n",
      "Line #      Hits         Time  Per Hit   % Time  Line Contents\n",
      "==============================================================\n",
      "    76                                               def add_cut(self):\n",
      "    77         1   16845004.0    2e+07    100.0          self.cuttaux.add_cut()\n",
      "\n",
      "Total time: 0.029729 s\n",
      "File: /root/study/ctqmc/ctqmc.py\n",
      "Function: update at line 82\n",
      "\n",
      "Line #      Hits         Time  Per Hit   % Time  Line Contents\n",
      "==============================================================\n",
      "    82                                               def update(self):\n",
      "    83         1    1655572.0    2e+06      5.6          self.cluster = self._gen_cluster(self.cuttaux)\n",
      "    84         1    6112956.0    6e+06     20.6          flip = self._gen_flip(self.cuttaux)\n",
      "    85         1    9492166.0    9e+06     31.9          self._connect_clusterbybond(self.cuttaux, self.bond)\n",
      "    86         1   12468290.0    1e+07     41.9          self._cluster_flip(self.cluster, flip)\n",
      "\n"
     ]
    }
   ],
   "source": [
    "pr.print_stats()"
   ]
  },
  {
   "cell_type": "code",
   "execution_count": null,
   "metadata": {},
   "outputs": [],
   "source": []
  }
 ],
 "metadata": {
  "kernelspec": {
   "display_name": "base",
   "language": "python",
   "name": "python3"
  },
  "language_info": {
   "codemirror_mode": {
    "name": "ipython",
    "version": 3
   },
   "file_extension": ".py",
   "mimetype": "text/x-python",
   "name": "python",
   "nbconvert_exporter": "python",
   "pygments_lexer": "ipython3",
   "version": "3.11.5"
  },
  "orig_nbformat": 4
 },
 "nbformat": 4,
 "nbformat_minor": 2
}
