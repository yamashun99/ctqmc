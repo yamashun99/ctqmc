{
 "cells": [
  {
   "cell_type": "code",
   "execution_count": 1,
   "metadata": {},
   "outputs": [
    {
     "data": {
      "text/plain": [
       "<module 'mpl_interface' from '/root/study/ctqmc/mpl_interface.py'>"
      ]
     },
     "execution_count": 1,
     "metadata": {},
     "output_type": "execute_result"
    }
   ],
   "source": [
    "import numpy as np\n",
    "import ctqmc\n",
    "import importlib\n",
    "import conf\n",
    "import ctqmc\n",
    "import mpl_interface\n",
    "import collections\n",
    "import line_profiler\n",
    "from mpl_interface import plt, spinplot, bondplot, cutplot\n",
    "importlib.reload(conf)\n",
    "importlib.reload(ctqmc)\n",
    "importlib.reload(mpl_interface)"
   ]
  },
  {
   "cell_type": "code",
   "execution_count": 2,
   "metadata": {},
   "outputs": [],
   "source": [
    "pr = line_profiler.LineProfiler()"
   ]
  },
  {
   "cell_type": "code",
   "execution_count": 3,
   "metadata": {},
   "outputs": [],
   "source": [
    "p = {'beta': 100, 'J': 1.0, 'Hx': 1.0,'L': 20}\n",
    "u = ctqmc.Updater(**p)\n",
    "pr.add_function(u.update)"
   ]
  },
  {
   "cell_type": "code",
   "execution_count": 4,
   "metadata": {},
   "outputs": [
    {
     "name": "stdout",
     "output_type": "stream",
     "text": [
      "CPU times: user 40 µs, sys: 13 µs, total: 53 µs\n",
      "Wall time: 53.4 µs\n",
      "CPU times: user 1.05 ms, sys: 14 µs, total: 1.06 ms\n",
      "Wall time: 1.06 ms\n",
      "CPU times: user 858 µs, sys: 0 ns, total: 858 µs\n",
      "Wall time: 859 µs\n",
      "CPU times: user 2.7 ms, sys: 0 ns, total: 2.7 ms\n",
      "Wall time: 2.64 ms\n"
     ]
    }
   ],
   "source": [
    "%time u.remove_cut()\n",
    "%time u.add_cut()\n",
    "%time u.update_bond()\n",
    "%time u.update()"
   ]
  },
  {
   "cell_type": "code",
   "execution_count": 5,
   "metadata": {},
   "outputs": [
    {
     "data": {
      "text/plain": [
       "<line_profiler.line_profiler.LineProfiler at 0x7ffb9e56f5b0>"
      ]
     },
     "execution_count": 5,
     "metadata": {},
     "output_type": "execute_result"
    }
   ],
   "source": [
    "pr.run('u.update()')"
   ]
  },
  {
   "cell_type": "code",
   "execution_count": 6,
   "metadata": {},
   "outputs": [
    {
     "name": "stdout",
     "output_type": "stream",
     "text": [
      "Timer unit: 1e-09 s\n",
      "\n",
      "Total time: 0.0570059 s\n",
      "File: /root/study/ctqmc/ctqmc.py\n",
      "Function: update at line 82\n",
      "\n",
      "Line #      Hits         Time  Per Hit   % Time  Line Contents\n",
      "==============================================================\n",
      "    82                                               def update(self):\n",
      "    83         1   51324419.0    5e+07     90.0          self.cluster = self._gen_cluster(self.cuttaux)\n",
      "    84         1    1139678.0    1e+06      2.0          flip = self._gen_flip(self.cuttaux)\n",
      "    85         1    2059618.0    2e+06      3.6          self._connect_clusterbybond(self.cuttaux, self.bond)\n",
      "    86         1    2482151.0    2e+06      4.4          self._cluster_flip(self.cluster, flip)\n",
      "\n"
     ]
    }
   ],
   "source": [
    "pr.print_stats()"
   ]
  },
  {
   "cell_type": "code",
   "execution_count": 9,
   "metadata": {},
   "outputs": [],
   "source": [
    "p = {'beta': 100, 'J': 1.0, 'Hx': 1.0,'L': 100}\n",
    "szs = []\n",
    "Hxs = np.linspace(0.1, 2, 10)\n",
    "ntot = 100\n",
    "nthermal=20\n",
    "for Hx in Hxs:\n",
    "    p['Hx'] = Hx\n",
    "    sz = np.zeros(ntot - nthermal)\n",
    "    for i in range(ntot):\n",
    "        u = ctqmc.Updater(**p)\n",
    "        u.remove_cut()\n",
    "        u.add_cut()\n",
    "        u.update_bond()\n",
    "        u.update()\n",
    "        if i > nthermal:\n",
    "            sz[i - nthermal] = u.measure_sz()\n",
    "    szs.append(np.mean(np.abs(sz)))"
   ]
  },
  {
   "cell_type": "code",
   "execution_count": 8,
   "metadata": {},
   "outputs": [
    {
     "data": {
      "text/plain": [
       "(0.0, 0.138917284504781)"
      ]
     },
     "execution_count": 8,
     "metadata": {},
     "output_type": "execute_result"
    },
    {
     "data": {
      "image/png": "[encoded data removed]",
      "text/plain": [
       "<Figure size 640x480 with 1 Axes>"
      ]
     },
     "metadata": {},
     "output_type": "display_data"
    }
   ],
   "source": [
    "fig, ax = plt.subplots()\n",
    "ax.plot(Hxs, szs, 'o-')\n",
    "ax.set_ylim(bottom=0)"
   ]
  },
  {
   "cell_type": "code",
   "execution_count": null,
   "metadata": {},
   "outputs": [],
   "source": [
    "p = {'beta': 100, 'J': 1.0, 'Hx': 1.0,'L': 100}\n",
    "nHx = 10\n",
    "nt = 10\n",
    "Hxs = np.linspace(0.1, 2, nHx)\n",
    "ts = np.linspace(0.1, 100, nt)\n",
    "ntot = 100\n",
    "nthermal=20\n",
    "szs = np.zeros((nHx, nt))\n",
    "for t in ts:\n",
    "    beta = 1.0/t\n",
    "    p['beta'] = beta\n",
    "    for Hx in Hxs:\n",
    "        p['Hx'] = Hx\n",
    "        sz = np.zeros(ntot - nthermal)\n",
    "        for i in range(ntot):\n",
    "            u = ctqmc.Updater(**p)\n",
    "            u.remove_cut()\n",
    "            u.add_cut()\n",
    "            u.update_bond()\n",
    "            u.update()\n",
    "            if i > nthermal:\n",
    "                sz[i - nthermal] = u.measure_sz()\n",
    "        szs.append(np.mean(np.abs(sz)))"
   ]
  },
  {
   "cell_type": "code",
   "execution_count": null,
   "metadata": {},
   "outputs": [],
   "source": []
  }
 ],
 "metadata": {
  "kernelspec": {
   "display_name": "base",
   "language": "python",
   "name": "python3"
  },
  "language_info": {
   "codemirror_mode": {
    "name": "ipython",
    "version": 3
   },
   "file_extension": ".py",
   "mimetype": "text/x-python",
   "name": "python",
   "nbconvert_exporter": "python",
   "pygments_lexer": "ipython3",
   "version": "3.11.5"
  },
  "orig_nbformat": 4
 },
 "nbformat": 4,
 "nbformat_minor": 2
}
